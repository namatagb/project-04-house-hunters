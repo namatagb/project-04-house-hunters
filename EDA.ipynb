{
 "cells": [
  {
   "cell_type": "code",
   "execution_count": 1,
   "id": "f11f37d2",
   "metadata": {},
   "outputs": [],
   "source": [
    "import pandas as pd\n",
    "import numpy as np\n",
    "import matplotlib.pyplot as plt\n",
    "from scipy.stats import linregress\n",
    "import seaborn as sns\n",
    "sns.set_theme(style='darkgrid')"
   ]
  },
  {
   "cell_type": "code",
   "execution_count": 2,
   "id": "f662b86e",
   "metadata": {},
   "outputs": [],
   "source": [
    "path1 = \"HomeVal&DaysonMark/finaldf.csv\"\n",
    "\n",
    "newfinaldf = pd.read_csv(path1)"
   ]
  },
  {
   "cell_type": "code",
   "execution_count": 3,
   "id": "a71c5b57",
   "metadata": {},
   "outputs": [
    {
     "data": {
      "text/html": [
       "<div>\n",
       "<style scoped>\n",
       "    .dataframe tbody tr th:only-of-type {\n",
       "        vertical-align: middle;\n",
       "    }\n",
       "\n",
       "    .dataframe tbody tr th {\n",
       "        vertical-align: top;\n",
       "    }\n",
       "\n",
       "    .dataframe thead th {\n",
       "        text-align: right;\n",
       "    }\n",
       "</style>\n",
       "<table border=\"1\" class=\"dataframe\">\n",
       "  <thead>\n",
       "    <tr style=\"text-align: right;\">\n",
       "      <th></th>\n",
       "      <th>DaysOnMarket</th>\n",
       "      <th>POPESTIMATE2020</th>\n",
       "      <th>RegionName</th>\n",
       "      <th>HomeValue</th>\n",
       "    </tr>\n",
       "  </thead>\n",
       "  <tbody>\n",
       "    <tr>\n",
       "      <th>0</th>\n",
       "      <td>59.178571</td>\n",
       "      <td>2677643</td>\n",
       "      <td>Chicago, IL</td>\n",
       "      <td>272492.678571</td>\n",
       "    </tr>\n",
       "    <tr>\n",
       "      <th>1</th>\n",
       "      <td>55.750000</td>\n",
       "      <td>1578487</td>\n",
       "      <td>Philadelphia, PA</td>\n",
       "      <td>289535.250000</td>\n",
       "    </tr>\n",
       "    <tr>\n",
       "      <th>2</th>\n",
       "      <td>50.035714</td>\n",
       "      <td>2316120</td>\n",
       "      <td>Houston, TX</td>\n",
       "      <td>252338.964286</td>\n",
       "    </tr>\n",
       "    <tr>\n",
       "      <th>3</th>\n",
       "      <td>42.821429</td>\n",
       "      <td>512550</td>\n",
       "      <td>Atlanta, GA</td>\n",
       "      <td>291759.678571</td>\n",
       "    </tr>\n",
       "    <tr>\n",
       "      <th>4</th>\n",
       "      <td>54.285714</td>\n",
       "      <td>691531</td>\n",
       "      <td>Boston, MA</td>\n",
       "      <td>581767.607143</td>\n",
       "    </tr>\n",
       "    <tr>\n",
       "      <th>...</th>\n",
       "      <td>...</td>\n",
       "      <td>...</td>\n",
       "      <td>...</td>\n",
       "      <td>...</td>\n",
       "    </tr>\n",
       "    <tr>\n",
       "      <th>331</th>\n",
       "      <td>48.750000</td>\n",
       "      <td>4799</td>\n",
       "      <td>Cornelia, GA</td>\n",
       "      <td>185672.500000</td>\n",
       "    </tr>\n",
       "    <tr>\n",
       "      <th>332</th>\n",
       "      <td>39.000000</td>\n",
       "      <td>19157</td>\n",
       "      <td>Durant, OK</td>\n",
       "      <td>133609.928571</td>\n",
       "    </tr>\n",
       "    <tr>\n",
       "      <th>333</th>\n",
       "      <td>58.285714</td>\n",
       "      <td>17239</td>\n",
       "      <td>Ada, OK</td>\n",
       "      <td>113388.142857</td>\n",
       "    </tr>\n",
       "    <tr>\n",
       "      <th>334</th>\n",
       "      <td>59.928571</td>\n",
       "      <td>15127</td>\n",
       "      <td>Newton, IA</td>\n",
       "      <td>140421.464286</td>\n",
       "    </tr>\n",
       "    <tr>\n",
       "      <th>335</th>\n",
       "      <td>27.285714</td>\n",
       "      <td>13885</td>\n",
       "      <td>Alexandria, MN</td>\n",
       "      <td>261901.214286</td>\n",
       "    </tr>\n",
       "  </tbody>\n",
       "</table>\n",
       "<p>336 rows × 4 columns</p>\n",
       "</div>"
      ],
      "text/plain": [
       "     DaysOnMarket  POPESTIMATE2020        RegionName      HomeValue\n",
       "0       59.178571          2677643       Chicago, IL  272492.678571\n",
       "1       55.750000          1578487  Philadelphia, PA  289535.250000\n",
       "2       50.035714          2316120       Houston, TX  252338.964286\n",
       "3       42.821429           512550       Atlanta, GA  291759.678571\n",
       "4       54.285714           691531        Boston, MA  581767.607143\n",
       "..            ...              ...               ...            ...\n",
       "331     48.750000             4799      Cornelia, GA  185672.500000\n",
       "332     39.000000            19157        Durant, OK  133609.928571\n",
       "333     58.285714            17239           Ada, OK  113388.142857\n",
       "334     59.928571            15127        Newton, IA  140421.464286\n",
       "335     27.285714            13885    Alexandria, MN  261901.214286\n",
       "\n",
       "[336 rows x 4 columns]"
      ]
     },
     "execution_count": 3,
     "metadata": {},
     "output_type": "execute_result"
    }
   ],
   "source": [
    "newfinaldf"
   ]
  },
  {
   "cell_type": "code",
   "execution_count": 4,
   "id": "6885aa81",
   "metadata": {},
   "outputs": [],
   "source": [
    "y = newfinaldf[\"POPESTIMATE2020\"]\n",
    "X = newfinaldf[\"HomeValue\"]"
   ]
  },
  {
   "cell_type": "code",
   "execution_count": 5,
   "id": "3f52f96e",
   "metadata": {},
   "outputs": [
    {
     "name": "stdout",
     "output_type": "stream",
     "text": [
      "y = 0.47x + 34459.44\n",
      "0.25669978678266064\n"
     ]
    }
   ],
   "source": [
    "(slope, intercept, rvalue, pvalue, stderr) = linregress(X, y)\n",
    "regress_values = X * slope + intercept\n",
    "line_eq = \"y = \" + str(round(slope, 2)) + \"x + \" + str(round(intercept, 2))\n",
    "print(line_eq)\n",
    "print(rvalue)"
   ]
  },
  {
   "cell_type": "code",
   "execution_count": 6,
   "id": "d410f2df",
   "metadata": {},
   "outputs": [
    {
     "data": {
      "image/png": "[encoded data removed]",
      "text/plain": [
       "<Figure size 432x288 with 1 Axes>"
      ]
     },
     "metadata": {
      "needs_background": "light"
     },
     "output_type": "display_data"
    }
   ],
   "source": [
    "plt.scatter(X, y, marker=\"o\", facecolors=\"red\", edgecolors=\"black\")\n",
    "plt.title(\"Population v Home Value\")\n",
    "plt.xlabel(\"Home Value ($)\")\n",
    "plt.ylabel(\"Population\")\n",
    "plt.plot(X,regress_values,\"r-\")\n",
    "\n",
    "plt.savefig(\"Images/PopHome.png\")"
   ]
  },
  {
   "cell_type": "code",
   "execution_count": 7,
   "id": "64dd9acf",
   "metadata": {},
   "outputs": [],
   "source": [
    "y2 = newfinaldf[\"POPESTIMATE2020\"]\n",
    "X2 = newfinaldf[\"DaysOnMarket\"]"
   ]
  },
  {
   "cell_type": "code",
   "execution_count": 8,
   "id": "ba3c6d5b",
   "metadata": {},
   "outputs": [
    {
     "name": "stdout",
     "output_type": "stream",
     "text": [
      "y = -481.18x + 183645.73\n",
      "-0.027326812119381785\n"
     ]
    }
   ],
   "source": [
    "(slope, intercept, rvalue2, pvalue, stderr) = linregress(X2, y2)\n",
    "regress_values2 = X2 * slope + intercept\n",
    "line_eq2 = \"y = \" + str(round(slope, 2)) + \"x + \" + str(round(intercept, 2))\n",
    "print(line_eq2)\n",
    "print(rvalue2)"
   ]
  },
  {
   "cell_type": "code",
   "execution_count": 9,
   "id": "8d2b96f0",
   "metadata": {},
   "outputs": [
    {
     "data": {
      "image/png": "[encoded data removed]",
      "text/plain": [
       "<Figure size 432x288 with 1 Axes>"
      ]
     },
     "metadata": {
      "needs_background": "light"
     },
     "output_type": "display_data"
    }
   ],
   "source": [
    "plt.scatter(X2, y2, marker=\"o\", facecolors=\"blue\", edgecolors=\"black\")\n",
    "plt.title(\"Population v Days on Market\")\n",
    "plt.xlabel(\"Days on Market\")\n",
    "plt.ylabel(\"Population\")\n",
    "plt.plot(X2,regress_values2,\"r-\")\n",
    "\n",
    "plt.savefig(\"Images/PopDays.png\")"
   ]
  },
  {
   "cell_type": "code",
   "execution_count": 10,
   "id": "4e951f44",
   "metadata": {},
   "outputs": [],
   "source": [
    "y3 = newfinaldf[\"HomeValue\"]\n",
    "X3 = newfinaldf[\"DaysOnMarket\"]"
   ]
  },
  {
   "cell_type": "code",
   "execution_count": 11,
   "id": "ec92a40c",
   "metadata": {},
   "outputs": [
    {
     "name": "stdout",
     "output_type": "stream",
     "text": [
      "y = -1363.32x + 331667.45\n",
      "-0.14274234881703607\n"
     ]
    }
   ],
   "source": [
    "(slope, intercept, rvalue3, pvalue, stderr) = linregress(X3, y3)\n",
    "regress_values3 = X3 * slope + intercept\n",
    "line_eq3 = \"y = \" + str(round(slope, 2)) + \"x + \" + str(round(intercept, 2))\n",
    "print(line_eq3)\n",
    "print(rvalue3)"
   ]
  },
  {
   "cell_type": "code",
   "execution_count": 12,
   "id": "7d504669",
   "metadata": {},
   "outputs": [
    {
     "data": {
      "image/png": "[encoded data removed]",
      "text/plain": [
       "<Figure size 432x288 with 1 Axes>"
      ]
     },
     "metadata": {
      "needs_background": "light"
     },
     "output_type": "display_data"
    }
   ],
   "source": [
    "plt.scatter(X3, y3, marker=\"o\", facecolors=\"green\", edgecolors=\"black\")\n",
    "plt.title(\"Home Value v Days on Market\")\n",
    "plt.xlabel(\"Days on Market\")\n",
    "plt.ylabel(\"Home Value ($)\")\n",
    "plt.plot(X3,regress_values3,\"r-\")\n",
    "\n",
    "plt.savefig(\"Images/DaysHome.png\")"
   ]
  },
  {
   "cell_type": "code",
   "execution_count": null,
   "id": "2d8db6b9",
   "metadata": {},
   "outputs": [],
   "source": []
  }
 ],
 "metadata": {
  "kernelspec": {
   "display_name": "Python 3 (ipykernel)",
   "language": "python",
   "name": "python3"
  },
  "language_info": {
   "codemirror_mode": {
    "name": "ipython",
    "version": 3
   },
   "file_extension": ".py",
   "mimetype": "text/x-python",
   "name": "python",
   "nbconvert_exporter": "python",
   "pygments_lexer": "ipython3",
   "version": "3.9.7"
  }
 },
 "nbformat": 4,
 "nbformat_minor": 5
}
