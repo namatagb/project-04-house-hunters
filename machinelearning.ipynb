{
 "cells": [
  {
   "cell_type": "code",
   "execution_count": 1,
   "id": "f11f37d2",
   "metadata": {},
   "outputs": [],
   "source": [
    "import pandas as pd\n",
    "import numpy as np\n",
    "from sklearn.model_selection import train_test_split\n",
    "from sklearn.linear_model import LogisticRegression\n",
    "from sklearn.linear_model import LinearRegression\n",
    "import tensorflow as tf\n",
    "from sklearn.preprocessing import StandardScaler"
   ]
  },
  {
   "cell_type": "code",
   "execution_count": 2,
   "id": "f662b86e",
   "metadata": {},
   "outputs": [],
   "source": [
    "path1 = \"HomeVal&DaysonMark/finaldf.csv\"\n",
    "\n",
    "newfinaldf = pd.read_csv(path1)"
   ]
  },
  {
   "cell_type": "code",
   "execution_count": 3,
   "id": "a71c5b57",
   "metadata": {},
   "outputs": [
    {
     "data": {
      "text/html": [
       "<div>\n",
       "<style scoped>\n",
       "    .dataframe tbody tr th:only-of-type {\n",
       "        vertical-align: middle;\n",
       "    }\n",
       "\n",
       "    .dataframe tbody tr th {\n",
       "        vertical-align: top;\n",
       "    }\n",
       "\n",
       "    .dataframe thead th {\n",
       "        text-align: right;\n",
       "    }\n",
       "</style>\n",
       "<table border=\"1\" class=\"dataframe\">\n",
       "  <thead>\n",
       "    <tr style=\"text-align: right;\">\n",
       "      <th></th>\n",
       "      <th>DaysOnMarket</th>\n",
       "      <th>POPESTIMATE2020</th>\n",
       "      <th>RegionName</th>\n",
       "      <th>HomeValue</th>\n",
       "    </tr>\n",
       "  </thead>\n",
       "  <tbody>\n",
       "    <tr>\n",
       "      <th>0</th>\n",
       "      <td>59.178571</td>\n",
       "      <td>2677643</td>\n",
       "      <td>Chicago, IL</td>\n",
       "      <td>272492.678571</td>\n",
       "    </tr>\n",
       "    <tr>\n",
       "      <th>1</th>\n",
       "      <td>55.750000</td>\n",
       "      <td>1578487</td>\n",
       "      <td>Philadelphia, PA</td>\n",
       "      <td>289535.250000</td>\n",
       "    </tr>\n",
       "    <tr>\n",
       "      <th>2</th>\n",
       "      <td>50.035714</td>\n",
       "      <td>2316120</td>\n",
       "      <td>Houston, TX</td>\n",
       "      <td>252338.964286</td>\n",
       "    </tr>\n",
       "    <tr>\n",
       "      <th>3</th>\n",
       "      <td>42.821429</td>\n",
       "      <td>512550</td>\n",
       "      <td>Atlanta, GA</td>\n",
       "      <td>291759.678571</td>\n",
       "    </tr>\n",
       "    <tr>\n",
       "      <th>4</th>\n",
       "      <td>54.285714</td>\n",
       "      <td>691531</td>\n",
       "      <td>Boston, MA</td>\n",
       "      <td>581767.607143</td>\n",
       "    </tr>\n",
       "    <tr>\n",
       "      <th>...</th>\n",
       "      <td>...</td>\n",
       "      <td>...</td>\n",
       "      <td>...</td>\n",
       "      <td>...</td>\n",
       "    </tr>\n",
       "    <tr>\n",
       "      <th>331</th>\n",
       "      <td>48.750000</td>\n",
       "      <td>4799</td>\n",
       "      <td>Cornelia, GA</td>\n",
       "      <td>185672.500000</td>\n",
       "    </tr>\n",
       "    <tr>\n",
       "      <th>332</th>\n",
       "      <td>39.000000</td>\n",
       "      <td>19157</td>\n",
       "      <td>Durant, OK</td>\n",
       "      <td>133609.928571</td>\n",
       "    </tr>\n",
       "    <tr>\n",
       "      <th>333</th>\n",
       "      <td>58.285714</td>\n",
       "      <td>17239</td>\n",
       "      <td>Ada, OK</td>\n",
       "      <td>113388.142857</td>\n",
       "    </tr>\n",
       "    <tr>\n",
       "      <th>334</th>\n",
       "      <td>59.928571</td>\n",
       "      <td>15127</td>\n",
       "      <td>Newton, IA</td>\n",
       "      <td>140421.464286</td>\n",
       "    </tr>\n",
       "    <tr>\n",
       "      <th>335</th>\n",
       "      <td>27.285714</td>\n",
       "      <td>13885</td>\n",
       "      <td>Alexandria, MN</td>\n",
       "      <td>261901.214286</td>\n",
       "    </tr>\n",
       "  </tbody>\n",
       "</table>\n",
       "<p>336 rows × 4 columns</p>\n",
       "</div>"
      ],
      "text/plain": [
       "     DaysOnMarket  POPESTIMATE2020        RegionName      HomeValue\n",
       "0       59.178571          2677643       Chicago, IL  272492.678571\n",
       "1       55.750000          1578487  Philadelphia, PA  289535.250000\n",
       "2       50.035714          2316120       Houston, TX  252338.964286\n",
       "3       42.821429           512550       Atlanta, GA  291759.678571\n",
       "4       54.285714           691531        Boston, MA  581767.607143\n",
       "..            ...              ...               ...            ...\n",
       "331     48.750000             4799      Cornelia, GA  185672.500000\n",
       "332     39.000000            19157        Durant, OK  133609.928571\n",
       "333     58.285714            17239           Ada, OK  113388.142857\n",
       "334     59.928571            15127        Newton, IA  140421.464286\n",
       "335     27.285714            13885    Alexandria, MN  261901.214286\n",
       "\n",
       "[336 rows x 4 columns]"
      ]
     },
     "execution_count": 3,
     "metadata": {},
     "output_type": "execute_result"
    }
   ],
   "source": [
    "newfinaldf"
   ]
  },
  {
   "cell_type": "code",
   "execution_count": 4,
   "id": "6885aa81",
   "metadata": {},
   "outputs": [],
   "source": [
    "y = newfinaldf[\"POPESTIMATE2020\"]\n",
    "X = newfinaldf.drop([\"POPESTIMATE2020\", \"RegionName\"], axis = 1)"
   ]
  },
  {
   "cell_type": "code",
   "execution_count": 5,
   "id": "d410f2df",
   "metadata": {},
   "outputs": [],
   "source": [
    "X_train, X_test, y_train, y_test = train_test_split(X, y, random_state=78)"
   ]
  },
  {
   "cell_type": "code",
   "execution_count": 6,
   "id": "5e60cf1b",
   "metadata": {},
   "outputs": [
    {
     "data": {
      "text/plain": [
       "LogisticRegression()"
      ]
     },
     "execution_count": 6,
     "metadata": {},
     "output_type": "execute_result"
    }
   ],
   "source": [
    "classifier = LogisticRegression()\n",
    "classifier"
   ]
  },
  {
   "cell_type": "code",
   "execution_count": 7,
   "id": "bf3a8be9",
   "metadata": {},
   "outputs": [
    {
     "data": {
      "text/plain": [
       "LogisticRegression()"
      ]
     },
     "execution_count": 7,
     "metadata": {},
     "output_type": "execute_result"
    }
   ],
   "source": [
    "classifier.fit(X_train, y_train) "
   ]
  },
  {
   "cell_type": "code",
   "execution_count": 8,
   "id": "8e358af7",
   "metadata": {},
   "outputs": [
    {
     "name": "stdout",
     "output_type": "stream",
     "text": [
      "Training Data Score: 0.003968253968253968\n",
      "Testing Data Score: 0.0\n"
     ]
    }
   ],
   "source": [
    "print(f\"Training Data Score: {classifier.score(X_train, y_train)}\")\n",
    "print(f\"Testing Data Score: {classifier.score(X_test, y_test)}\")"
   ]
  },
  {
   "cell_type": "code",
   "execution_count": 9,
   "id": "c592df6d",
   "metadata": {},
   "outputs": [
    {
     "name": "stdout",
     "output_type": "stream",
     "text": [
      "R2 Score: 0.06598335673847944\n"
     ]
    }
   ],
   "source": [
    "model = LinearRegression()\n",
    "\n",
    "# Fitting our model with all our features in X\n",
    "model.fit(X, y)\n",
    "\n",
    "score = model.score(X, y)\n",
    "print(f\"R2 Score: {score}\")"
   ]
  },
  {
   "cell_type": "code",
   "execution_count": 10,
   "id": "c6b3f87a",
   "metadata": {},
   "outputs": [],
   "source": [
    "# Create a StandardScaler instances\n",
    "scaler = StandardScaler()\n",
    "\n",
    "# Fit the StandardScaler\n",
    "X_scaler = scaler.fit(X_train)\n",
    "\n",
    "# Scale the data\n",
    "X_train_scaled = X_scaler.transform(X_train)\n",
    "X_test_scaled = X_scaler.transform(X_test)"
   ]
  },
  {
   "cell_type": "code",
   "execution_count": 11,
   "id": "3952950b",
   "metadata": {},
   "outputs": [
    {
     "data": {
      "text/plain": [
       "LogisticRegression()"
      ]
     },
     "execution_count": 11,
     "metadata": {},
     "output_type": "execute_result"
    }
   ],
   "source": [
    "model = LogisticRegression()\n",
    "model"
   ]
  },
  {
   "cell_type": "code",
   "execution_count": 12,
   "id": "11a7ad10",
   "metadata": {
    "scrolled": true
   },
   "outputs": [
    {
     "data": {
      "text/plain": [
       "LogisticRegression()"
      ]
     },
     "execution_count": 12,
     "metadata": {},
     "output_type": "execute_result"
    }
   ],
   "source": [
    "model.fit(X_train_scaled, y_train) "
   ]
  },
  {
   "cell_type": "code",
   "execution_count": 13,
   "id": "668bae61",
   "metadata": {},
   "outputs": [
    {
     "name": "stdout",
     "output_type": "stream",
     "text": [
      "Training Data Score: 0.007936507936507936\n",
      "Testing Data Score: 0.0\n"
     ]
    }
   ],
   "source": [
    "print(f\"Training Data Score: {classifier.score(X_train_scaled, y_train)}\")\n",
    "print(f\"Testing Data Score: {classifier.score(X_test_scaled, y_test)}\")"
   ]
  },
  {
   "cell_type": "code",
   "execution_count": 14,
   "id": "019a9621",
   "metadata": {},
   "outputs": [
    {
     "name": "stdout",
     "output_type": "stream",
     "text": [
      "Model: \"sequential\"\n",
      "_________________________________________________________________\n",
      " Layer (type)                Output Shape              Param #   \n",
      "=================================================================\n",
      " dense (Dense)               (None, 4)                 12        \n",
      "                                                                 \n",
      " dense_1 (Dense)             (None, 2)                 10        \n",
      "                                                                 \n",
      " dense_2 (Dense)             (None, 1)                 3         \n",
      "                                                                 \n",
      "=================================================================\n",
      "Total params: 25\n",
      "Trainable params: 25\n",
      "Non-trainable params: 0\n",
      "_________________________________________________________________\n"
     ]
    }
   ],
   "source": [
    "# Define the model - deep neural net, i.e., the number of input features and hidden nodes for each layer.\n",
    "nn = tf.keras.models.Sequential()\n",
    "\n",
    "# First hidden layer\n",
    "nn.add(tf.keras.layers.Dense(units=4, activation=\"relu\", input_dim=len(X_train_scaled[0])))\n",
    "\n",
    "# Second hidden layer\n",
    "nn.add(tf.keras.layers.Dense(units=2, activation=\"relu\"))\n",
    "\n",
    "# Output layer\n",
    "nn.add(tf.keras.layers.Dense(units=1, activation=\"sigmoid\"))\n",
    "\n",
    "# Check the structure of the model\n",
    "nn.summary()"
   ]
  },
  {
   "cell_type": "code",
   "execution_count": 15,
   "id": "33306864",
   "metadata": {},
   "outputs": [],
   "source": [
    "# Compile the model\n",
    "nn.compile(loss=\"binary_crossentropy\", optimizer=\"adam\", metrics=[\"accuracy\"])"
   ]
  },
  {
   "cell_type": "code",
   "execution_count": 16,
   "id": "1f716c33",
   "metadata": {},
   "outputs": [
    {
     "name": "stdout",
     "output_type": "stream",
     "text": [
      "Epoch 1/100\n",
      "8/8 [==============================] - 0s 2ms/step - loss: -4316710912.0000 - accuracy: 0.0000e+00\n",
      "Epoch 2/100\n",
      "8/8 [==============================] - 0s 2ms/step - loss: -5010900992.0000 - accuracy: 0.0000e+00\n",
      "Epoch 3/100\n",
      "8/8 [==============================] - 0s 1ms/step - loss: -5613436416.0000 - accuracy: 0.0000e+00\n",
      "Epoch 4/100\n",
      "8/8 [==============================] - 0s 2ms/step - loss: -6363349504.0000 - accuracy: 0.0000e+00\n",
      "Epoch 5/100\n",
      "8/8 [==============================] - 0s 2ms/step - loss: -7014995456.0000 - accuracy: 0.0000e+00\n",
      "Epoch 6/100\n",
      "8/8 [==============================] - 0s 2ms/step - loss: -7722183168.0000 - accuracy: 0.0000e+00\n",
      "Epoch 7/100\n",
      "8/8 [==============================] - 0s 2ms/step - loss: -8469108224.0000 - accuracy: 0.0000e+00\n",
      "Epoch 8/100\n",
      "8/8 [==============================] - 0s 2ms/step - loss: -9198172160.0000 - accuracy: 0.0000e+00\n",
      "Epoch 9/100\n",
      "8/8 [==============================] - 0s 1ms/step - loss: -10001968128.0000 - accuracy: 0.0000e+00\n",
      "Epoch 10/100\n",
      "8/8 [==============================] - 0s 2ms/step - loss: -10792792064.0000 - accuracy: 0.0000e+00\n",
      "Epoch 11/100\n",
      "8/8 [==============================] - 0s 1ms/step - loss: -11585055744.0000 - accuracy: 0.0000e+00\n",
      "Epoch 12/100\n",
      "8/8 [==============================] - 0s 2ms/step - loss: -12291912704.0000 - accuracy: 0.0000e+00\n",
      "Epoch 13/100\n",
      "8/8 [==============================] - 0s 1ms/step - loss: -13258945536.0000 - accuracy: 0.0000e+00\n",
      "Epoch 14/100\n",
      "8/8 [==============================] - 0s 2ms/step - loss: -14018147328.0000 - accuracy: 0.0000e+00\n",
      "Epoch 15/100\n",
      "8/8 [==============================] - 0s 1ms/step - loss: -14989474816.0000 - accuracy: 0.0000e+00\n",
      "Epoch 16/100\n",
      "8/8 [==============================] - 0s 1ms/step - loss: -15897529344.0000 - accuracy: 0.0000e+00\n",
      "Epoch 17/100\n",
      "8/8 [==============================] - 0s 1ms/step - loss: -16893877248.0000 - accuracy: 0.0000e+00\n",
      "Epoch 18/100\n",
      "8/8 [==============================] - 0s 1ms/step - loss: -17890127872.0000 - accuracy: 0.0000e+00\n",
      "Epoch 19/100\n",
      "8/8 [==============================] - 0s 2ms/step - loss: -18853335040.0000 - accuracy: 0.0000e+00\n",
      "Epoch 20/100\n",
      "8/8 [==============================] - 0s 1ms/step - loss: -20013275136.0000 - accuracy: 0.0000e+00\n",
      "Epoch 21/100\n",
      "8/8 [==============================] - 0s 1ms/step - loss: -21129373696.0000 - accuracy: 0.0000e+00\n",
      "Epoch 22/100\n",
      "8/8 [==============================] - 0s 1ms/step - loss: -22242426880.0000 - accuracy: 0.0000e+00\n",
      "Epoch 23/100\n",
      "8/8 [==============================] - 0s 2ms/step - loss: -23516823552.0000 - accuracy: 0.0000e+00\n",
      "Epoch 24/100\n",
      "8/8 [==============================] - 0s 1ms/step - loss: -24709861376.0000 - accuracy: 0.0000e+00\n",
      "Epoch 25/100\n",
      "8/8 [==============================] - 0s 1ms/step - loss: -26028173312.0000 - accuracy: 0.0000e+00\n",
      "Epoch 26/100\n",
      "8/8 [==============================] - 0s 1ms/step - loss: -27467888640.0000 - accuracy: 0.0000e+00\n",
      "Epoch 27/100\n",
      "8/8 [==============================] - 0s 1ms/step - loss: -28722513920.0000 - accuracy: 0.0000e+00\n",
      "Epoch 28/100\n",
      "8/8 [==============================] - 0s 2ms/step - loss: -30232430592.0000 - accuracy: 0.0000e+00\n",
      "Epoch 29/100\n",
      "8/8 [==============================] - 0s 2ms/step - loss: -31872624640.0000 - accuracy: 0.0000e+00\n",
      "Epoch 30/100\n",
      "8/8 [==============================] - 0s 1ms/step - loss: -33420931072.0000 - accuracy: 0.0000e+00\n",
      "Epoch 31/100\n",
      "8/8 [==============================] - 0s 2ms/step - loss: -35027820544.0000 - accuracy: 0.0000e+00\n",
      "Epoch 32/100\n",
      "8/8 [==============================] - 0s 1ms/step - loss: -36774506496.0000 - accuracy: 0.0000e+00\n",
      "Epoch 33/100\n",
      "8/8 [==============================] - 0s 1ms/step - loss: -38560133120.0000 - accuracy: 0.0000e+00\n",
      "Epoch 34/100\n",
      "8/8 [==============================] - 0s 1ms/step - loss: -40442474496.0000 - accuracy: 0.0000e+00\n",
      "Epoch 35/100\n",
      "8/8 [==============================] - 0s 1ms/step - loss: -42489511936.0000 - accuracy: 0.0000e+00\n",
      "Epoch 36/100\n",
      "8/8 [==============================] - 0s 1ms/step - loss: -44465324032.0000 - accuracy: 0.0000e+00\n",
      "Epoch 37/100\n",
      "8/8 [==============================] - 0s 1ms/step - loss: -46525321216.0000 - accuracy: 0.0000e+00\n",
      "Epoch 38/100\n",
      "8/8 [==============================] - 0s 1ms/step - loss: -48588275712.0000 - accuracy: 0.0000e+00\n",
      "Epoch 39/100\n",
      "8/8 [==============================] - 0s 1ms/step - loss: -51059986432.0000 - accuracy: 0.0000e+00\n",
      "Epoch 40/100\n",
      "8/8 [==============================] - 0s 2ms/step - loss: -53222887424.0000 - accuracy: 0.0000e+00\n",
      "Epoch 41/100\n",
      "8/8 [==============================] - 0s 1ms/step - loss: -55778758656.0000 - accuracy: 0.0000e+00\n",
      "Epoch 42/100\n",
      "8/8 [==============================] - 0s 1ms/step - loss: -58314788864.0000 - accuracy: 0.0000e+00\n",
      "Epoch 43/100\n",
      "8/8 [==============================] - 0s 1ms/step - loss: -60828102656.0000 - accuracy: 0.0000e+00\n",
      "Epoch 44/100\n",
      "8/8 [==============================] - 0s 2ms/step - loss: -63651708928.0000 - accuracy: 0.0000e+00\n",
      "Epoch 45/100\n",
      "8/8 [==============================] - 0s 1ms/step - loss: -66424123392.0000 - accuracy: 0.0000e+00\n",
      "Epoch 46/100\n",
      "8/8 [==============================] - 0s 1ms/step - loss: -69246738432.0000 - accuracy: 0.0000e+00\n",
      "Epoch 47/100\n",
      "8/8 [==============================] - 0s 1ms/step - loss: -72473919488.0000 - accuracy: 0.0000e+00\n",
      "Epoch 48/100\n",
      "8/8 [==============================] - 0s 1ms/step - loss: -75417526272.0000 - accuracy: 0.0000e+00\n",
      "Epoch 49/100\n",
      "8/8 [==============================] - 0s 1ms/step - loss: -78832279552.0000 - accuracy: 0.0000e+00\n",
      "Epoch 50/100\n",
      "8/8 [==============================] - 0s 1ms/step - loss: -82025439232.0000 - accuracy: 0.0000e+00\n",
      "Epoch 51/100\n",
      "8/8 [==============================] - 0s 2ms/step - loss: -85209325568.0000 - accuracy: 0.0000e+00\n",
      "Epoch 52/100\n",
      "8/8 [==============================] - 0s 1ms/step - loss: -88959369216.0000 - accuracy: 0.0000e+00\n",
      "Epoch 53/100\n",
      "8/8 [==============================] - 0s 1ms/step - loss: -92734005248.0000 - accuracy: 0.0000e+00\n",
      "Epoch 54/100\n",
      "8/8 [==============================] - 0s 1ms/step - loss: -96477872128.0000 - accuracy: 0.0000e+00\n",
      "Epoch 55/100\n",
      "8/8 [==============================] - 0s 2ms/step - loss: -100316110848.0000 - accuracy: 0.0000e+00\n",
      "Epoch 56/100\n",
      "8/8 [==============================] - 0s 2ms/step - loss: -104554962944.0000 - accuracy: 0.0000e+00\n",
      "Epoch 57/100\n",
      "8/8 [==============================] - 0s 1ms/step - loss: -108250619904.0000 - accuracy: 0.0000e+00\n",
      "Epoch 58/100\n",
      "8/8 [==============================] - 0s 1ms/step - loss: -112740638720.0000 - accuracy: 0.0000e+00\n",
      "Epoch 59/100\n",
      "8/8 [==============================] - 0s 1ms/step - loss: -117033000960.0000 - accuracy: 0.0000e+00\n",
      "Epoch 60/100\n",
      "8/8 [==============================] - 0s 1ms/step - loss: -121579315200.0000 - accuracy: 0.0000e+00\n",
      "Epoch 61/100\n",
      "8/8 [==============================] - 0s 1ms/step - loss: -126602240000.0000 - accuracy: 0.0000e+00\n",
      "Epoch 62/100\n",
      "8/8 [==============================] - 0s 1ms/step - loss: -131022725120.0000 - accuracy: 0.0000e+00\n",
      "Epoch 63/100\n",
      "8/8 [==============================] - 0s 997us/step - loss: -135754227712.0000 - accuracy: 0.0000e+00\n",
      "Epoch 64/100\n",
      "8/8 [==============================] - 0s 1ms/step - loss: -141117620224.0000 - accuracy: 0.0000e+00\n",
      "Epoch 65/100\n",
      "8/8 [==============================] - 0s 1ms/step - loss: -146123898880.0000 - accuracy: 0.0000e+00\n",
      "Epoch 66/100\n",
      "8/8 [==============================] - 0s 1ms/step - loss: -151526604800.0000 - accuracy: 0.0000e+00\n",
      "Epoch 67/100\n",
      "8/8 [==============================] - 0s 1ms/step - loss: -156608774144.0000 - accuracy: 0.0000e+00\n",
      "Epoch 68/100\n",
      "8/8 [==============================] - 0s 1ms/step - loss: -162888925184.0000 - accuracy: 0.0000e+00\n",
      "Epoch 69/100\n",
      "8/8 [==============================] - 0s 1ms/step - loss: -168100986880.0000 - accuracy: 0.0000e+00\n",
      "Epoch 70/100\n",
      "8/8 [==============================] - 0s 1ms/step - loss: -173801308160.0000 - accuracy: 0.0000e+00\n",
      "Epoch 71/100\n",
      "8/8 [==============================] - 0s 1ms/step - loss: -180145012736.0000 - accuracy: 0.0000e+00\n",
      "Epoch 72/100\n",
      "8/8 [==============================] - 0s 1ms/step - loss: -185996378112.0000 - accuracy: 0.0000e+00\n",
      "Epoch 73/100\n"
     ]
    },
    {
     "name": "stdout",
     "output_type": "stream",
     "text": [
      "8/8 [==============================] - 0s 1ms/step - loss: -192679460864.0000 - accuracy: 0.0000e+00\n",
      "Epoch 74/100\n",
      "8/8 [==============================] - 0s 1ms/step - loss: -199116963840.0000 - accuracy: 0.0000e+00\n",
      "Epoch 75/100\n",
      "8/8 [==============================] - 0s 1ms/step - loss: -205198753792.0000 - accuracy: 0.0000e+00\n",
      "Epoch 76/100\n",
      "8/8 [==============================] - 0s 1ms/step - loss: -212309000192.0000 - accuracy: 0.0000e+00\n",
      "Epoch 77/100\n",
      "8/8 [==============================] - 0s 1ms/step - loss: -219404877824.0000 - accuracy: 0.0000e+00\n",
      "Epoch 78/100\n",
      "8/8 [==============================] - 0s 1ms/step - loss: -226126528512.0000 - accuracy: 0.0000e+00\n",
      "Epoch 79/100\n",
      "8/8 [==============================] - 0s 997us/step - loss: -233359605760.0000 - accuracy: 0.0000e+00\n",
      "Epoch 80/100\n",
      "8/8 [==============================] - 0s 1ms/step - loss: -240577429504.0000 - accuracy: 0.0000e+00\n",
      "Epoch 81/100\n",
      "8/8 [==============================] - 0s 1ms/step - loss: -248092868608.0000 - accuracy: 0.0000e+00\n",
      "Epoch 82/100\n",
      "8/8 [==============================] - 0s 997us/step - loss: -256157417472.0000 - accuracy: 0.0000e+00\n",
      "Epoch 83/100\n",
      "8/8 [==============================] - 0s 1ms/step - loss: -263629750272.0000 - accuracy: 0.0000e+00\n",
      "Epoch 84/100\n",
      "8/8 [==============================] - 0s 1ms/step - loss: -271374745600.0000 - accuracy: 0.0000e+00\n",
      "Epoch 85/100\n",
      "8/8 [==============================] - 0s 997us/step - loss: -280105091072.0000 - accuracy: 0.0000e+00\n",
      "Epoch 86/100\n",
      "8/8 [==============================] - 0s 1ms/step - loss: -288320487424.0000 - accuracy: 0.0000e+00\n",
      "Epoch 87/100\n",
      "8/8 [==============================] - 0s 1ms/step - loss: -297311240192.0000 - accuracy: 0.0000e+00\n",
      "Epoch 88/100\n",
      "8/8 [==============================] - 0s 997us/step - loss: -305573101568.0000 - accuracy: 0.0000e+00\n",
      "Epoch 89/100\n",
      "8/8 [==============================] - 0s 1ms/step - loss: -314698760192.0000 - accuracy: 0.0000e+00\n",
      "Epoch 90/100\n",
      "8/8 [==============================] - 0s 1ms/step - loss: -323491332096.0000 - accuracy: 0.0000e+00\n",
      "Epoch 91/100\n",
      "8/8 [==============================] - 0s 1ms/step - loss: -332843581440.0000 - accuracy: 0.0000e+00\n",
      "Epoch 92/100\n",
      "8/8 [==============================] - 0s 997us/step - loss: -342621454336.0000 - accuracy: 0.0000e+00\n",
      "Epoch 93/100\n",
      "8/8 [==============================] - 0s 1ms/step - loss: -351393284096.0000 - accuracy: 0.0000e+00\n",
      "Epoch 94/100\n",
      "8/8 [==============================] - 0s 1ms/step - loss: -361436610560.0000 - accuracy: 0.0000e+00\n",
      "Epoch 95/100\n",
      "8/8 [==============================] - 0s 997us/step - loss: -370679840768.0000 - accuracy: 0.0000e+00\n",
      "Epoch 96/100\n",
      "8/8 [==============================] - 0s 1ms/step - loss: -381003988992.0000 - accuracy: 0.0000e+00\n",
      "Epoch 97/100\n",
      "8/8 [==============================] - 0s 1ms/step - loss: -391714766848.0000 - accuracy: 0.0000e+00\n",
      "Epoch 98/100\n",
      "8/8 [==============================] - 0s 997us/step - loss: -401796628480.0000 - accuracy: 0.0000e+00\n",
      "Epoch 99/100\n",
      "8/8 [==============================] - 0s 1ms/step - loss: -411692761088.0000 - accuracy: 0.0000e+00\n",
      "Epoch 100/100\n",
      "8/8 [==============================] - 0s 1ms/step - loss: -423390806016.0000 - accuracy: 0.0000e+00\n"
     ]
    }
   ],
   "source": [
    "# Train the model\n",
    "fit_model = nn.fit(X_train, y_train, epochs=100)"
   ]
  },
  {
   "cell_type": "code",
   "execution_count": 17,
   "id": "f77cd59d",
   "metadata": {},
   "outputs": [
    {
     "name": "stdout",
     "output_type": "stream",
     "text": [
      "3/3 - 0s - loss: -2.0097e+06 - accuracy: 0.0000e+00 - 135ms/epoch - 45ms/step\n",
      "Loss: -2009690.5, Accuracy: 0.0\n"
     ]
    }
   ],
   "source": [
    "model_loss, model_accuracy = nn.evaluate(X_test_scaled,y_test,verbose=2)\n",
    "print(f\"Loss: {model_loss}, Accuracy: {model_accuracy}\")"
   ]
  },
  {
   "cell_type": "code",
   "execution_count": 18,
   "id": "fd7d753e",
   "metadata": {},
   "outputs": [],
   "source": [
    "y = newfinaldf[\"POPESTIMATE2020\"]\n",
    "X = newfinaldf.drop([\"POPESTIMATE2020\", \"RegionName\", \"HomeValue\"], axis = 1)"
   ]
  },
  {
   "cell_type": "code",
   "execution_count": 19,
   "id": "16f55577",
   "metadata": {},
   "outputs": [],
   "source": [
    "X_train, X_test, y_train, y_test = train_test_split(X, y, random_state=78)"
   ]
  },
  {
   "cell_type": "code",
   "execution_count": 20,
   "id": "9f801f9b",
   "metadata": {},
   "outputs": [
    {
     "data": {
      "text/plain": [
       "LogisticRegression()"
      ]
     },
     "execution_count": 20,
     "metadata": {},
     "output_type": "execute_result"
    }
   ],
   "source": [
    "classifier = LogisticRegression()\n",
    "classifier"
   ]
  },
  {
   "cell_type": "code",
   "execution_count": 21,
   "id": "621df372",
   "metadata": {},
   "outputs": [
    {
     "name": "stderr",
     "output_type": "stream",
     "text": [
      "C:\\Users\\admin\\anaconda3\\lib\\site-packages\\sklearn\\linear_model\\_logistic.py:763: ConvergenceWarning: lbfgs failed to converge (status=1):\n",
      "STOP: TOTAL NO. of ITERATIONS REACHED LIMIT.\n",
      "\n",
      "Increase the number of iterations (max_iter) or scale the data as shown in:\n",
      "    https://scikit-learn.org/stable/modules/preprocessing.html\n",
      "Please also refer to the documentation for alternative solver options:\n",
      "    https://scikit-learn.org/stable/modules/linear_model.html#logistic-regression\n",
      "  n_iter_i = _check_optimize_result(\n"
     ]
    },
    {
     "data": {
      "text/plain": [
       "LogisticRegression()"
      ]
     },
     "execution_count": 21,
     "metadata": {},
     "output_type": "execute_result"
    }
   ],
   "source": [
    "classifier.fit(X_train, y_train)"
   ]
  },
  {
   "cell_type": "code",
   "execution_count": 22,
   "id": "9f3b6113",
   "metadata": {},
   "outputs": [
    {
     "name": "stdout",
     "output_type": "stream",
     "text": [
      "Training Data Score: 0.047619047619047616\n",
      "Testing Data Score: 0.0\n"
     ]
    }
   ],
   "source": [
    "print(f\"Training Data Score: {classifier.score(X_train, y_train)}\")\n",
    "print(f\"Testing Data Score: {classifier.score(X_test, y_test)}\")"
   ]
  },
  {
   "cell_type": "code",
   "execution_count": 23,
   "id": "d94fe96b",
   "metadata": {},
   "outputs": [],
   "source": [
    "# Create a StandardScaler instances\n",
    "scaler = StandardScaler()\n",
    "\n",
    "# Fit the StandardScaler\n",
    "X_scaler = scaler.fit(X_train)\n",
    "\n",
    "# Scale the data\n",
    "X_train_scaled = X_scaler.transform(X_train)\n",
    "X_test_scaled = X_scaler.transform(X_test)"
   ]
  },
  {
   "cell_type": "code",
   "execution_count": 24,
   "id": "cd5b4037",
   "metadata": {},
   "outputs": [
    {
     "data": {
      "text/plain": [
       "LogisticRegression()"
      ]
     },
     "execution_count": 24,
     "metadata": {},
     "output_type": "execute_result"
    }
   ],
   "source": [
    "model = LogisticRegression()\n",
    "model"
   ]
  },
  {
   "cell_type": "code",
   "execution_count": 25,
   "id": "617eca05",
   "metadata": {},
   "outputs": [
    {
     "data": {
      "text/plain": [
       "LogisticRegression()"
      ]
     },
     "execution_count": 25,
     "metadata": {},
     "output_type": "execute_result"
    }
   ],
   "source": [
    "model.fit(X_train_scaled, y_train) "
   ]
  },
  {
   "cell_type": "code",
   "execution_count": 26,
   "id": "75437033",
   "metadata": {},
   "outputs": [
    {
     "name": "stdout",
     "output_type": "stream",
     "text": [
      "Training Data Score: 0.003968253968253968\n",
      "Testing Data Score: 0.0\n"
     ]
    }
   ],
   "source": [
    "print(f\"Training Data Score: {classifier.score(X_train_scaled, y_train)}\")\n",
    "print(f\"Testing Data Score: {classifier.score(X_test_scaled, y_test)}\")"
   ]
  },
  {
   "cell_type": "code",
   "execution_count": 27,
   "id": "5abbc6c8",
   "metadata": {},
   "outputs": [
    {
     "name": "stdout",
     "output_type": "stream",
     "text": [
      "Model: \"sequential_1\"\n",
      "_________________________________________________________________\n",
      " Layer (type)                Output Shape              Param #   \n",
      "=================================================================\n",
      " dense_3 (Dense)             (None, 4)                 8         \n",
      "                                                                 \n",
      " dense_4 (Dense)             (None, 3)                 15        \n",
      "                                                                 \n",
      " dense_5 (Dense)             (None, 2)                 8         \n",
      "                                                                 \n",
      " dense_6 (Dense)             (None, 1)                 3         \n",
      "                                                                 \n",
      "=================================================================\n",
      "Total params: 34\n",
      "Trainable params: 34\n",
      "Non-trainable params: 0\n",
      "_________________________________________________________________\n"
     ]
    }
   ],
   "source": [
    "# Define the model - deep neural net, i.e., the number of input features and hidden nodes for each layer.\n",
    "nn = tf.keras.models.Sequential()\n",
    "\n",
    "# First hidden layer\n",
    "nn.add(tf.keras.layers.Dense(units=4, activation=\"relu\", input_dim=len(X_train_scaled[0])))\n",
    "\n",
    "# Second hidden layer\n",
    "nn.add(tf.keras.layers.Dense(units=3, activation=\"relu\"))\n",
    "\n",
    "# Third hidden layer\n",
    "nn.add(tf.keras.layers.Dense(units=2, activation=\"relu\"))\n",
    "\n",
    "# Output layer\n",
    "nn.add(tf.keras.layers.Dense(units=1, activation=\"sigmoid\"))\n",
    "\n",
    "# Check the structure of the model\n",
    "nn.summary()"
   ]
  },
  {
   "cell_type": "code",
   "execution_count": 28,
   "id": "68a697c3",
   "metadata": {},
   "outputs": [],
   "source": [
    "# Compile the model\n",
    "nn.compile(loss=\"binary_crossentropy\", optimizer=\"adam\", metrics=[\"accuracy\"])"
   ]
  },
  {
   "cell_type": "code",
   "execution_count": 29,
   "id": "af29ba58",
   "metadata": {},
   "outputs": [
    {
     "name": "stdout",
     "output_type": "stream",
     "text": [
      "Epoch 1/100\n",
      "8/8 [==============================] - 0s 2ms/step - loss: -168928.6094 - accuracy: 0.0000e+00\n",
      "Epoch 2/100\n",
      "8/8 [==============================] - 0s 2ms/step - loss: -206102.6094 - accuracy: 0.0000e+00\n",
      "Epoch 3/100\n",
      "8/8 [==============================] - 0s 2ms/step - loss: -249250.7344 - accuracy: 0.0000e+00\n",
      "Epoch 4/100\n",
      "8/8 [==============================] - 0s 1ms/step - loss: -300171.8438 - accuracy: 0.0000e+00\n",
      "Epoch 5/100\n",
      "8/8 [==============================] - 0s 2ms/step - loss: -355346.9375 - accuracy: 0.0000e+00\n",
      "Epoch 6/100\n",
      "8/8 [==============================] - 0s 2ms/step - loss: -416302.4062 - accuracy: 0.0000e+00\n",
      "Epoch 7/100\n",
      "8/8 [==============================] - 0s 2ms/step - loss: -489789.9375 - accuracy: 0.0000e+00\n",
      "Epoch 8/100\n",
      "8/8 [==============================] - 0s 2ms/step - loss: -562939.7500 - accuracy: 0.0000e+00\n",
      "Epoch 9/100\n",
      "8/8 [==============================] - 0s 2ms/step - loss: -649284.6250 - accuracy: 0.0000e+00\n",
      "Epoch 10/100\n",
      "8/8 [==============================] - 0s 2ms/step - loss: -756525.3750 - accuracy: 0.0000e+00\n",
      "Epoch 11/100\n",
      "8/8 [==============================] - 0s 2ms/step - loss: -858816.5000 - accuracy: 0.0000e+00\n",
      "Epoch 12/100\n",
      "8/8 [==============================] - 0s 2ms/step - loss: -987712.1250 - accuracy: 0.0000e+00\n",
      "Epoch 13/100\n",
      "8/8 [==============================] - 0s 2ms/step - loss: -1112286.1250 - accuracy: 0.0000e+00\n",
      "Epoch 14/100\n",
      "8/8 [==============================] - 0s 2ms/step - loss: -1263248.3750 - accuracy: 0.0000e+00\n",
      "Epoch 15/100\n",
      "8/8 [==============================] - 0s 2ms/step - loss: -1425382.1250 - accuracy: 0.0000e+00\n",
      "Epoch 16/100\n",
      "8/8 [==============================] - 0s 2ms/step - loss: -1600896.0000 - accuracy: 0.0000e+00\n",
      "Epoch 17/100\n",
      "8/8 [==============================] - 0s 1ms/step - loss: -1795851.6250 - accuracy: 0.0000e+00\n",
      "Epoch 18/100\n",
      "8/8 [==============================] - 0s 1ms/step - loss: -2024833.7500 - accuracy: 0.0000e+00\n",
      "Epoch 19/100\n",
      "8/8 [==============================] - 0s 1ms/step - loss: -2253759.0000 - accuracy: 0.0000e+00\n",
      "Epoch 20/100\n",
      "8/8 [==============================] - 0s 1ms/step - loss: -2500854.5000 - accuracy: 0.0000e+00\n",
      "Epoch 21/100\n",
      "8/8 [==============================] - 0s 1ms/step - loss: -2778192.7500 - accuracy: 0.0000e+00\n",
      "Epoch 22/100\n",
      "8/8 [==============================] - 0s 2ms/step - loss: -3077397.0000 - accuracy: 0.0000e+00\n",
      "Epoch 23/100\n",
      "8/8 [==============================] - 0s 2ms/step - loss: -3395174.0000 - accuracy: 0.0000e+00\n",
      "Epoch 24/100\n",
      "8/8 [==============================] - 0s 1ms/step - loss: -3736732.5000 - accuracy: 0.0000e+00\n",
      "Epoch 25/100\n",
      "8/8 [==============================] - 0s 1ms/step - loss: -4109928.7500 - accuracy: 0.0000e+00\n",
      "Epoch 26/100\n",
      "8/8 [==============================] - 0s 1ms/step - loss: -4500409.0000 - accuracy: 0.0000e+00\n",
      "Epoch 27/100\n",
      "8/8 [==============================] - 0s 1ms/step - loss: -4941182.0000 - accuracy: 0.0000e+00\n",
      "Epoch 28/100\n",
      "8/8 [==============================] - 0s 1ms/step - loss: -5360780.0000 - accuracy: 0.0000e+00\n",
      "Epoch 29/100\n",
      "8/8 [==============================] - 0s 2ms/step - loss: -5866157.5000 - accuracy: 0.0000e+00\n",
      "Epoch 30/100\n",
      "8/8 [==============================] - 0s 2ms/step - loss: -6383453.5000 - accuracy: 0.0000e+00\n",
      "Epoch 31/100\n",
      "8/8 [==============================] - 0s 2ms/step - loss: -6917823.0000 - accuracy: 0.0000e+00\n",
      "Epoch 32/100\n",
      "8/8 [==============================] - 0s 1ms/step - loss: -7476732.0000 - accuracy: 0.0000e+00\n",
      "Epoch 33/100\n",
      "8/8 [==============================] - 0s 2ms/step - loss: -8095394.5000 - accuracy: 0.0000e+00\n",
      "Epoch 34/100\n",
      "8/8 [==============================] - 0s 2ms/step - loss: -8748505.0000 - accuracy: 0.0000e+00\n",
      "Epoch 35/100\n",
      "8/8 [==============================] - 0s 2ms/step - loss: -9430981.0000 - accuracy: 0.0000e+00\n",
      "Epoch 36/100\n",
      "8/8 [==============================] - 0s 2ms/step - loss: -10157550.0000 - accuracy: 0.0000e+00\n",
      "Epoch 37/100\n",
      "8/8 [==============================] - 0s 2ms/step - loss: -10891803.0000 - accuracy: 0.0000e+00\n",
      "Epoch 38/100\n",
      "8/8 [==============================] - 0s 2ms/step - loss: -11727630.0000 - accuracy: 0.0000e+00\n",
      "Epoch 39/100\n",
      "8/8 [==============================] - 0s 2ms/step - loss: -12513030.0000 - accuracy: 0.0000e+00\n",
      "Epoch 40/100\n",
      "8/8 [==============================] - 0s 2ms/step - loss: -13397974.0000 - accuracy: 0.0000e+00\n",
      "Epoch 41/100\n",
      "8/8 [==============================] - 0s 2ms/step - loss: -14345842.0000 - accuracy: 0.0000e+00\n",
      "Epoch 42/100\n",
      "8/8 [==============================] - 0s 1ms/step - loss: -15356616.0000 - accuracy: 0.0000e+00\n",
      "Epoch 43/100\n",
      "8/8 [==============================] - 0s 1ms/step - loss: -16365123.0000 - accuracy: 0.0000e+00\n",
      "Epoch 44/100\n",
      "8/8 [==============================] - 0s 1ms/step - loss: -17428822.0000 - accuracy: 0.0000e+00\n",
      "Epoch 45/100\n",
      "8/8 [==============================] - 0s 1ms/step - loss: -18504966.0000 - accuracy: 0.0000e+00\n",
      "Epoch 46/100\n",
      "8/8 [==============================] - 0s 1ms/step - loss: -19687950.0000 - accuracy: 0.0000e+00\n",
      "Epoch 47/100\n",
      "8/8 [==============================] - 0s 2ms/step - loss: -20917620.0000 - accuracy: 0.0000e+00\n",
      "Epoch 48/100\n",
      "8/8 [==============================] - 0s 1ms/step - loss: -22169614.0000 - accuracy: 0.0000e+00\n",
      "Epoch 49/100\n",
      "8/8 [==============================] - 0s 1ms/step - loss: -23479694.0000 - accuracy: 0.0000e+00\n",
      "Epoch 50/100\n",
      "8/8 [==============================] - 0s 1ms/step - loss: -24862304.0000 - accuracy: 0.0000e+00\n",
      "Epoch 51/100\n",
      "8/8 [==============================] - 0s 2ms/step - loss: -26279110.0000 - accuracy: 0.0000e+00\n",
      "Epoch 52/100\n",
      "8/8 [==============================] - 0s 1ms/step - loss: -27860496.0000 - accuracy: 0.0000e+00\n",
      "Epoch 53/100\n",
      "8/8 [==============================] - 0s 2ms/step - loss: -29445544.0000 - accuracy: 0.0000e+00\n",
      "Epoch 54/100\n",
      "8/8 [==============================] - 0s 1ms/step - loss: -30987366.0000 - accuracy: 0.0000e+00\n",
      "Epoch 55/100\n",
      "8/8 [==============================] - 0s 1ms/step - loss: -32870526.0000 - accuracy: 0.0000e+00\n",
      "Epoch 56/100\n",
      "8/8 [==============================] - 0s 2ms/step - loss: -34618028.0000 - accuracy: 0.0000e+00\n",
      "Epoch 57/100\n",
      "8/8 [==============================] - 0s 2ms/step - loss: -36339604.0000 - accuracy: 0.0000e+00\n",
      "Epoch 58/100\n",
      "8/8 [==============================] - 0s 1ms/step - loss: -38501152.0000 - accuracy: 0.0000e+00\n",
      "Epoch 59/100\n",
      "8/8 [==============================] - 0s 1ms/step - loss: -40338792.0000 - accuracy: 0.0000e+00\n",
      "Epoch 60/100\n",
      "8/8 [==============================] - 0s 1ms/step - loss: -42352836.0000 - accuracy: 0.0000e+00\n",
      "Epoch 61/100\n",
      "8/8 [==============================] - 0s 2ms/step - loss: -44659640.0000 - accuracy: 0.0000e+00\n",
      "Epoch 62/100\n",
      "8/8 [==============================] - 0s 2ms/step - loss: -46835768.0000 - accuracy: 0.0000e+00\n",
      "Epoch 63/100\n",
      "8/8 [==============================] - 0s 2ms/step - loss: -49219576.0000 - accuracy: 0.0000e+00\n",
      "Epoch 64/100\n",
      "8/8 [==============================] - 0s 2ms/step - loss: -51560336.0000 - accuracy: 0.0000e+00\n",
      "Epoch 65/100\n",
      "8/8 [==============================] - 0s 1ms/step - loss: -54006808.0000 - accuracy: 0.0000e+00\n",
      "Epoch 66/100\n",
      "8/8 [==============================] - 0s 1ms/step - loss: -56791988.0000 - accuracy: 0.0000e+00\n",
      "Epoch 67/100\n",
      "8/8 [==============================] - 0s 1ms/step - loss: -59181784.0000 - accuracy: 0.0000e+00\n",
      "Epoch 68/100\n",
      "8/8 [==============================] - 0s 1ms/step - loss: -62165488.0000 - accuracy: 0.0000e+00\n",
      "Epoch 69/100\n",
      "8/8 [==============================] - 0s 1ms/step - loss: -65020984.0000 - accuracy: 0.0000e+00\n",
      "Epoch 70/100\n",
      "8/8 [==============================] - 0s 1ms/step - loss: -67774472.0000 - accuracy: 0.0000e+00\n",
      "Epoch 71/100\n",
      "8/8 [==============================] - 0s 1ms/step - loss: -71118648.0000 - accuracy: 0.0000e+00\n",
      "Epoch 72/100\n",
      "8/8 [==============================] - 0s 1ms/step - loss: -74194584.0000 - accuracy: 0.0000e+00\n",
      "Epoch 73/100\n",
      "8/8 [==============================] - 0s 1ms/step - loss: -77492360.0000 - accuracy: 0.0000e+00\n",
      "Epoch 74/100\n",
      "8/8 [==============================] - 0s 1ms/step - loss: -80630272.0000 - accuracy: 0.0000e+00\n",
      "Epoch 75/100\n",
      "8/8 [==============================] - 0s 1ms/step - loss: -84359896.0000 - accuracy: 0.0000e+00\n"
     ]
    },
    {
     "name": "stdout",
     "output_type": "stream",
     "text": [
      "Epoch 76/100\n",
      "8/8 [==============================] - 0s 1ms/step - loss: -87782104.0000 - accuracy: 0.0000e+00\n",
      "Epoch 77/100\n",
      "8/8 [==============================] - 0s 1ms/step - loss: -91642584.0000 - accuracy: 0.0000e+00\n",
      "Epoch 78/100\n",
      "8/8 [==============================] - 0s 1ms/step - loss: -95437712.0000 - accuracy: 0.0000e+00\n",
      "Epoch 79/100\n",
      "8/8 [==============================] - 0s 1ms/step - loss: -99341768.0000 - accuracy: 0.0000e+00\n",
      "Epoch 80/100\n",
      "8/8 [==============================] - 0s 997us/step - loss: -103306920.0000 - accuracy: 0.0000e+00\n",
      "Epoch 81/100\n",
      "8/8 [==============================] - 0s 1ms/step - loss: -107579272.0000 - accuracy: 0.0000e+00\n",
      "Epoch 82/100\n",
      "8/8 [==============================] - 0s 1ms/step - loss: -112053096.0000 - accuracy: 0.0000e+00\n",
      "Epoch 83/100\n",
      "8/8 [==============================] - 0s 1ms/step - loss: -116427432.0000 - accuracy: 0.0000e+00\n",
      "Epoch 84/100\n",
      "8/8 [==============================] - 0s 1ms/step - loss: -121029440.0000 - accuracy: 0.0000e+00\n",
      "Epoch 85/100\n",
      "8/8 [==============================] - 0s 2ms/step - loss: -125505096.0000 - accuracy: 0.0000e+00\n",
      "Epoch 86/100\n",
      "8/8 [==============================] - 0s 2ms/step - loss: -130628560.0000 - accuracy: 0.0000e+00\n",
      "Epoch 87/100\n",
      "8/8 [==============================] - 0s 1ms/step - loss: -135596800.0000 - accuracy: 0.0000e+00\n",
      "Epoch 88/100\n",
      "8/8 [==============================] - 0s 1ms/step - loss: -140899328.0000 - accuracy: 0.0000e+00\n",
      "Epoch 89/100\n",
      "8/8 [==============================] - 0s 997us/step - loss: -146039856.0000 - accuracy: 0.0000e+00\n",
      "Epoch 90/100\n",
      "8/8 [==============================] - 0s 1ms/step - loss: -151629040.0000 - accuracy: 0.0000e+00\n",
      "Epoch 91/100\n",
      "8/8 [==============================] - 0s 1ms/step - loss: -156754592.0000 - accuracy: 0.0000e+00\n",
      "Epoch 92/100\n",
      "8/8 [==============================] - 0s 1ms/step - loss: -162682320.0000 - accuracy: 0.0000e+00\n",
      "Epoch 93/100\n",
      "8/8 [==============================] - 0s 1ms/step - loss: -168655392.0000 - accuracy: 0.0000e+00\n",
      "Epoch 94/100\n",
      "8/8 [==============================] - 0s 1ms/step - loss: -174878304.0000 - accuracy: 0.0000e+00\n",
      "Epoch 95/100\n",
      "8/8 [==============================] - 0s 1ms/step - loss: -180749408.0000 - accuracy: 0.0000e+00\n",
      "Epoch 96/100\n",
      "8/8 [==============================] - 0s 2ms/step - loss: -187050896.0000 - accuracy: 0.0000e+00\n",
      "Epoch 97/100\n",
      "8/8 [==============================] - 0s 2ms/step - loss: -193614352.0000 - accuracy: 0.0000e+00\n",
      "Epoch 98/100\n",
      "8/8 [==============================] - 0s 1ms/step - loss: -200394480.0000 - accuracy: 0.0000e+00\n",
      "Epoch 99/100\n",
      "8/8 [==============================] - 0s 2ms/step - loss: -206884112.0000 - accuracy: 0.0000e+00\n",
      "Epoch 100/100\n",
      "8/8 [==============================] - 0s 2ms/step - loss: -214271792.0000 - accuracy: 0.0000e+00\n"
     ]
    }
   ],
   "source": [
    "fit_model = nn.fit(X_train, y_train, epochs=100)"
   ]
  },
  {
   "cell_type": "code",
   "execution_count": 30,
   "id": "a77fef6d",
   "metadata": {},
   "outputs": [
    {
     "name": "stdout",
     "output_type": "stream",
     "text": [
      "3/3 - 0s - loss: -6.7560e+06 - accuracy: 0.0000e+00 - 106ms/epoch - 35ms/step\n",
      "Loss: -6755956.0, Accuracy: 0.0\n"
     ]
    }
   ],
   "source": [
    "model_loss, model_accuracy = nn.evaluate(X_test_scaled,y_test,verbose=2)\n",
    "print(f\"Loss: {model_loss}, Accuracy: {model_accuracy}\")"
   ]
  },
  {
   "cell_type": "code",
   "execution_count": null,
   "id": "64dd9acf",
   "metadata": {},
   "outputs": [],
   "source": []
  }
 ],
 "metadata": {
  "kernelspec": {
   "display_name": "Python 3 (ipykernel)",
   "language": "python",
   "name": "python3"
  },
  "language_info": {
   "codemirror_mode": {
    "name": "ipython",
    "version": 3
   },
   "file_extension": ".py",
   "mimetype": "text/x-python",
   "name": "python",
   "nbconvert_exporter": "python",
   "pygments_lexer": "ipython3",
   "version": "3.9.7"
  }
 },
 "nbformat": 4,
 "nbformat_minor": 5
}
