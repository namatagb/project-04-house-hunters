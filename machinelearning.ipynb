{
 "cells": [
  {
   "cell_type": "code",
   "execution_count": 19,
   "id": "f11f37d2",
   "metadata": {},
   "outputs": [],
   "source": [
    "import pandas as pd\n",
    "import numpy as np\n",
    "from sklearn.model_selection import train_test_split\n",
    "from sklearn.linear_model import LogisticRegression\n",
    "from sklearn.linear_model import LinearRegression\n",
    "import tensorflow as tf\n",
    "from sklearn.preprocessing import StandardScaler"
   ]
  },
  {
   "cell_type": "code",
   "execution_count": 20,
   "id": "f662b86e",
   "metadata": {},
   "outputs": [],
   "source": [
    "path1 = \"HomeVal&DaysonMark/finaldf.csv\"\n",
    "\n",
    "newfinaldf = pd.read_csv(path1)"
   ]
  },
  {
   "cell_type": "code",
   "execution_count": 36,
   "id": "a71c5b57",
   "metadata": {},
   "outputs": [
    {
     "data": {
      "text/html": [
       "<div>\n",
       "<style scoped>\n",
       "    .dataframe tbody tr th:only-of-type {\n",
       "        vertical-align: middle;\n",
       "    }\n",
       "\n",
       "    .dataframe tbody tr th {\n",
       "        vertical-align: top;\n",
       "    }\n",
       "\n",
       "    .dataframe thead th {\n",
       "        text-align: right;\n",
       "    }\n",
       "</style>\n",
       "<table border=\"1\" class=\"dataframe\">\n",
       "  <thead>\n",
       "    <tr style=\"text-align: right;\">\n",
       "      <th></th>\n",
       "      <th>DaysOnMarket</th>\n",
       "      <th>POPESTIMATE2020</th>\n",
       "      <th>RegionName</th>\n",
       "      <th>HomeValue</th>\n",
       "    </tr>\n",
       "  </thead>\n",
       "  <tbody>\n",
       "    <tr>\n",
       "      <th>0</th>\n",
       "      <td>59.178571</td>\n",
       "      <td>2677643</td>\n",
       "      <td>Chicago, IL</td>\n",
       "      <td>272492.678571</td>\n",
       "    </tr>\n",
       "    <tr>\n",
       "      <th>1</th>\n",
       "      <td>55.750000</td>\n",
       "      <td>1578487</td>\n",
       "      <td>Philadelphia, PA</td>\n",
       "      <td>289535.250000</td>\n",
       "    </tr>\n",
       "    <tr>\n",
       "      <th>2</th>\n",
       "      <td>50.035714</td>\n",
       "      <td>2316120</td>\n",
       "      <td>Houston, TX</td>\n",
       "      <td>252338.964286</td>\n",
       "    </tr>\n",
       "    <tr>\n",
       "      <th>3</th>\n",
       "      <td>42.821429</td>\n",
       "      <td>512550</td>\n",
       "      <td>Atlanta, GA</td>\n",
       "      <td>291759.678571</td>\n",
       "    </tr>\n",
       "    <tr>\n",
       "      <th>4</th>\n",
       "      <td>54.285714</td>\n",
       "      <td>691531</td>\n",
       "      <td>Boston, MA</td>\n",
       "      <td>581767.607143</td>\n",
       "    </tr>\n",
       "    <tr>\n",
       "      <th>...</th>\n",
       "      <td>...</td>\n",
       "      <td>...</td>\n",
       "      <td>...</td>\n",
       "      <td>...</td>\n",
       "    </tr>\n",
       "    <tr>\n",
       "      <th>331</th>\n",
       "      <td>48.750000</td>\n",
       "      <td>4799</td>\n",
       "      <td>Cornelia, GA</td>\n",
       "      <td>185672.500000</td>\n",
       "    </tr>\n",
       "    <tr>\n",
       "      <th>332</th>\n",
       "      <td>39.000000</td>\n",
       "      <td>19157</td>\n",
       "      <td>Durant, OK</td>\n",
       "      <td>133609.928571</td>\n",
       "    </tr>\n",
       "    <tr>\n",
       "      <th>333</th>\n",
       "      <td>58.285714</td>\n",
       "      <td>17239</td>\n",
       "      <td>Ada, OK</td>\n",
       "      <td>113388.142857</td>\n",
       "    </tr>\n",
       "    <tr>\n",
       "      <th>334</th>\n",
       "      <td>59.928571</td>\n",
       "      <td>15127</td>\n",
       "      <td>Newton, IA</td>\n",
       "      <td>140421.464286</td>\n",
       "    </tr>\n",
       "    <tr>\n",
       "      <th>335</th>\n",
       "      <td>27.285714</td>\n",
       "      <td>13885</td>\n",
       "      <td>Alexandria, MN</td>\n",
       "      <td>261901.214286</td>\n",
       "    </tr>\n",
       "  </tbody>\n",
       "</table>\n",
       "<p>336 rows × 4 columns</p>\n",
       "</div>"
      ],
      "text/plain": [
       "     DaysOnMarket  POPESTIMATE2020        RegionName      HomeValue\n",
       "0       59.178571          2677643       Chicago, IL  272492.678571\n",
       "1       55.750000          1578487  Philadelphia, PA  289535.250000\n",
       "2       50.035714          2316120       Houston, TX  252338.964286\n",
       "3       42.821429           512550       Atlanta, GA  291759.678571\n",
       "4       54.285714           691531        Boston, MA  581767.607143\n",
       "..            ...              ...               ...            ...\n",
       "331     48.750000             4799      Cornelia, GA  185672.500000\n",
       "332     39.000000            19157        Durant, OK  133609.928571\n",
       "333     58.285714            17239           Ada, OK  113388.142857\n",
       "334     59.928571            15127        Newton, IA  140421.464286\n",
       "335     27.285714            13885    Alexandria, MN  261901.214286\n",
       "\n",
       "[336 rows x 4 columns]"
      ]
     },
     "execution_count": 36,
     "metadata": {},
     "output_type": "execute_result"
    }
   ],
   "source": [
    "newfinaldf"
   ]
  },
  {
   "cell_type": "code",
   "execution_count": 21,
   "id": "6885aa81",
   "metadata": {},
   "outputs": [],
   "source": [
    "y = newfinaldf[\"POPESTIMATE2020\"]\n",
    "X = newfinaldf.drop([\"POPESTIMATE2020\", \"RegionName\"], axis = 1)"
   ]
  },
  {
   "cell_type": "code",
   "execution_count": 22,
   "id": "d410f2df",
   "metadata": {},
   "outputs": [],
   "source": [
    "X_train, X_test, y_train, y_test = train_test_split(X, y, random_state=78)"
   ]
  },
  {
   "cell_type": "code",
   "execution_count": 23,
   "id": "5e60cf1b",
   "metadata": {},
   "outputs": [
    {
     "data": {
      "text/plain": [
       "LogisticRegression()"
      ]
     },
     "execution_count": 23,
     "metadata": {},
     "output_type": "execute_result"
    }
   ],
   "source": [
    "classifier = LogisticRegression()\n",
    "classifier"
   ]
  },
  {
   "cell_type": "code",
   "execution_count": 24,
   "id": "bf3a8be9",
   "metadata": {},
   "outputs": [
    {
     "data": {
      "text/plain": [
       "LogisticRegression()"
      ]
     },
     "execution_count": 24,
     "metadata": {},
     "output_type": "execute_result"
    }
   ],
   "source": [
    "classifier.fit(X_train, y_train) "
   ]
  },
  {
   "cell_type": "code",
   "execution_count": 25,
   "id": "8e358af7",
   "metadata": {},
   "outputs": [
    {
     "name": "stdout",
     "output_type": "stream",
     "text": [
      "Training Data Score: 0.003968253968253968\n",
      "Testing Data Score: 0.0\n"
     ]
    }
   ],
   "source": [
    "print(f\"Training Data Score: {classifier.score(X_train, y_train)}\")\n",
    "print(f\"Testing Data Score: {classifier.score(X_test, y_test)}\")"
   ]
  },
  {
   "cell_type": "code",
   "execution_count": 26,
   "id": "c592df6d",
   "metadata": {},
   "outputs": [
    {
     "name": "stdout",
     "output_type": "stream",
     "text": [
      "R2 Score: 0.06598335673847944\n"
     ]
    }
   ],
   "source": [
    "model = LinearRegression()\n",
    "\n",
    "# Fitting our model with all our features in X\n",
    "model.fit(X, y)\n",
    "\n",
    "score = model.score(X, y)\n",
    "print(f\"R2 Score: {score}\")"
   ]
  },
  {
   "cell_type": "code",
   "execution_count": 27,
   "id": "c6b3f87a",
   "metadata": {},
   "outputs": [],
   "source": [
    "# Create a StandardScaler instances\n",
    "scaler = StandardScaler()\n",
    "\n",
    "# Fit the StandardScaler\n",
    "X_scaler = scaler.fit(X_train)\n",
    "\n",
    "# Scale the data\n",
    "X_train_scaled = X_scaler.transform(X_train)\n",
    "X_test_scaled = X_scaler.transform(X_test)"
   ]
  },
  {
   "cell_type": "code",
   "execution_count": 31,
   "id": "3952950b",
   "metadata": {},
   "outputs": [
    {
     "data": {
      "text/plain": [
       "LogisticRegression()"
      ]
     },
     "execution_count": 31,
     "metadata": {},
     "output_type": "execute_result"
    }
   ],
   "source": [
    "model = LogisticRegression()\n",
    "model"
   ]
  },
  {
   "cell_type": "code",
   "execution_count": 33,
   "id": "11a7ad10",
   "metadata": {
    "scrolled": true
   },
   "outputs": [
    {
     "data": {
      "text/plain": [
       "LogisticRegression()"
      ]
     },
     "execution_count": 33,
     "metadata": {},
     "output_type": "execute_result"
    }
   ],
   "source": [
    "model.fit(X_train_scaled, y_train) "
   ]
  },
  {
   "cell_type": "code",
   "execution_count": 34,
   "id": "668bae61",
   "metadata": {},
   "outputs": [
    {
     "name": "stdout",
     "output_type": "stream",
     "text": [
      "Training Data Score: 0.007936507936507936\n",
      "Testing Data Score: 0.0\n"
     ]
    }
   ],
   "source": [
    "print(f\"Training Data Score: {classifier.score(X_train_scaled, y_train)}\")\n",
    "print(f\"Testing Data Score: {classifier.score(X_test_scaled, y_test)}\")"
   ]
  },
  {
   "cell_type": "code",
   "execution_count": 28,
   "id": "019a9621",
   "metadata": {},
   "outputs": [
    {
     "name": "stdout",
     "output_type": "stream",
     "text": [
      "Model: \"sequential_3\"\n",
      "_________________________________________________________________\n",
      " Layer (type)                Output Shape              Param #   \n",
      "=================================================================\n",
      " dense_3 (Dense)             (None, 4)                 12        \n",
      "                                                                 \n",
      " dense_4 (Dense)             (None, 2)                 10        \n",
      "                                                                 \n",
      " dense_5 (Dense)             (None, 1)                 3         \n",
      "                                                                 \n",
      "=================================================================\n",
      "Total params: 25\n",
      "Trainable params: 25\n",
      "Non-trainable params: 0\n",
      "_________________________________________________________________\n"
     ]
    }
   ],
   "source": [
    "# Define the model - deep neural net, i.e., the number of input features and hidden nodes for each layer.\n",
    "nn = tf.keras.models.Sequential()\n",
    "\n",
    "# First hidden layer\n",
    "nn.add(tf.keras.layers.Dense(units=4, activation=\"relu\", input_dim=len(X_train_scaled[0])))\n",
    "\n",
    "# Second hidden layer\n",
    "nn.add(tf.keras.layers.Dense(units=2, activation=\"relu\"))\n",
    "\n",
    "# Output layer\n",
    "nn.add(tf.keras.layers.Dense(units=1, activation=\"sigmoid\"))\n",
    "\n",
    "# Check the structure of the model\n",
    "nn.summary()"
   ]
  },
  {
   "cell_type": "code",
   "execution_count": 29,
   "id": "33306864",
   "metadata": {},
   "outputs": [],
   "source": [
    "# Compile the model\n",
    "nn.compile(loss=\"binary_crossentropy\", optimizer=\"adam\", metrics=[\"accuracy\"])"
   ]
  },
  {
   "cell_type": "code",
   "execution_count": 30,
   "id": "1f716c33",
   "metadata": {},
   "outputs": [
    {
     "name": "stdout",
     "output_type": "stream",
     "text": [
      "Epoch 1/100\n",
      "8/8 [==============================] - 1s 2ms/step - loss: -1802076928.0000 - accuracy: 0.0000e+00\n",
      "Epoch 2/100\n",
      "8/8 [==============================] - 0s 2ms/step - loss: -2661484544.0000 - accuracy: 0.0000e+00\n",
      "Epoch 3/100\n",
      "8/8 [==============================] - 0s 2ms/step - loss: -3549521664.0000 - accuracy: 0.0000e+00\n",
      "Epoch 4/100\n",
      "8/8 [==============================] - 0s 2ms/step - loss: -4389557248.0000 - accuracy: 0.0000e+00\n",
      "Epoch 5/100\n",
      "8/8 [==============================] - 0s 1ms/step - loss: -5420263424.0000 - accuracy: 0.0000e+00\n",
      "Epoch 6/100\n",
      "8/8 [==============================] - 0s 2ms/step - loss: -6367626752.0000 - accuracy: 0.0000e+00\n",
      "Epoch 7/100\n",
      "8/8 [==============================] - 0s 1ms/step - loss: -7334178304.0000 - accuracy: 0.0000e+00\n",
      "Epoch 8/100\n",
      "8/8 [==============================] - 0s 2ms/step - loss: -8378497536.0000 - accuracy: 0.0000e+00\n",
      "Epoch 9/100\n",
      "8/8 [==============================] - 0s 1ms/step - loss: -9395640320.0000 - accuracy: 0.0000e+00\n",
      "Epoch 10/100\n",
      "8/8 [==============================] - 0s 2ms/step - loss: -10560640000.0000 - accuracy: 0.0000e+00\n",
      "Epoch 11/100\n",
      "8/8 [==============================] - 0s 1ms/step - loss: -11647403008.0000 - accuracy: 0.0000e+00\n",
      "Epoch 12/100\n",
      "8/8 [==============================] - 0s 1ms/step - loss: -12834641920.0000 - accuracy: 0.0000e+00\n",
      "Epoch 13/100\n",
      "8/8 [==============================] - 0s 2ms/step - loss: -14037841920.0000 - accuracy: 0.0000e+00\n",
      "Epoch 14/100\n",
      "8/8 [==============================] - 0s 1ms/step - loss: -15199225856.0000 - accuracy: 0.0000e+00\n",
      "Epoch 15/100\n",
      "8/8 [==============================] - 0s 2ms/step - loss: -16555115520.0000 - accuracy: 0.0000e+00\n",
      "Epoch 16/100\n",
      "8/8 [==============================] - 0s 2ms/step - loss: -17818718208.0000 - accuracy: 0.0000e+00\n",
      "Epoch 17/100\n",
      "8/8 [==============================] - 0s 1ms/step - loss: -19130589184.0000 - accuracy: 0.0000e+00\n",
      "Epoch 18/100\n",
      "8/8 [==============================] - 0s 1ms/step - loss: -20629651456.0000 - accuracy: 0.0000e+00\n",
      "Epoch 19/100\n",
      "8/8 [==============================] - 0s 1ms/step - loss: -22044209152.0000 - accuracy: 0.0000e+00\n",
      "Epoch 20/100\n",
      "8/8 [==============================] - 0s 1ms/step - loss: -23494744064.0000 - accuracy: 0.0000e+00\n",
      "Epoch 21/100\n",
      "8/8 [==============================] - 0s 1ms/step - loss: -24794021888.0000 - accuracy: 0.0000e+00\n",
      "Epoch 22/100\n",
      "8/8 [==============================] - 0s 1ms/step - loss: -26464659456.0000 - accuracy: 0.0000e+00\n",
      "Epoch 23/100\n",
      "8/8 [==============================] - 0s 1ms/step - loss: -28099960832.0000 - accuracy: 0.0000e+00\n",
      "Epoch 24/100\n",
      "8/8 [==============================] - 0s 1ms/step - loss: -29718108160.0000 - accuracy: 0.0000e+00\n",
      "Epoch 25/100\n",
      "8/8 [==============================] - 0s 2ms/step - loss: -31167934464.0000 - accuracy: 0.0000e+00\n",
      "Epoch 26/100\n",
      "8/8 [==============================] - 0s 2ms/step - loss: -32968964096.0000 - accuracy: 0.0000e+00\n",
      "Epoch 27/100\n",
      "8/8 [==============================] - 0s 1ms/step - loss: -34735353856.0000 - accuracy: 0.0000e+00\n",
      "Epoch 28/100\n",
      "8/8 [==============================] - 0s 2ms/step - loss: -36407803904.0000 - accuracy: 0.0000e+00\n",
      "Epoch 29/100\n",
      "8/8 [==============================] - 0s 2ms/step - loss: -38386909184.0000 - accuracy: 0.0000e+00\n",
      "Epoch 30/100\n",
      "8/8 [==============================] - 0s 2ms/step - loss: -40161251328.0000 - accuracy: 0.0000e+00\n",
      "Epoch 31/100\n",
      "8/8 [==============================] - 0s 2ms/step - loss: -42160668672.0000 - accuracy: 0.0000e+00\n",
      "Epoch 32/100\n",
      "8/8 [==============================] - 0s 2ms/step - loss: -43937980416.0000 - accuracy: 0.0000e+00\n",
      "Epoch 33/100\n",
      "8/8 [==============================] - 0s 2ms/step - loss: -45948489728.0000 - accuracy: 0.0000e+00\n",
      "Epoch 34/100\n",
      "8/8 [==============================] - 0s 2ms/step - loss: -48191770624.0000 - accuracy: 0.0000e+00\n",
      "Epoch 35/100\n",
      "8/8 [==============================] - 0s 2ms/step - loss: -50073432064.0000 - accuracy: 0.0000e+00\n",
      "Epoch 36/100\n",
      "8/8 [==============================] - 0s 2ms/step - loss: -51606548480.0000 - accuracy: 0.0000e+00\n",
      "Epoch 37/100\n",
      "8/8 [==============================] - 0s 1ms/step - loss: -53471961088.0000 - accuracy: 0.0000e+00\n",
      "Epoch 38/100\n",
      "8/8 [==============================] - 0s 2ms/step - loss: -55072223232.0000 - accuracy: 0.0000e+00\n",
      "Epoch 39/100\n",
      "8/8 [==============================] - 0s 2ms/step - loss: -57015353344.0000 - accuracy: 0.0000e+00\n",
      "Epoch 40/100\n",
      "8/8 [==============================] - 0s 1ms/step - loss: -58784616448.0000 - accuracy: 0.0000e+00\n",
      "Epoch 41/100\n",
      "8/8 [==============================] - 0s 1ms/step - loss: -60745719808.0000 - accuracy: 0.0000e+00\n",
      "Epoch 42/100\n",
      "8/8 [==============================] - 0s 2ms/step - loss: -62649901056.0000 - accuracy: 0.0000e+00\n",
      "Epoch 43/100\n",
      "8/8 [==============================] - 0s 2ms/step - loss: -64753831936.0000 - accuracy: 0.0000e+00\n",
      "Epoch 44/100\n",
      "8/8 [==============================] - 0s 2ms/step - loss: -66765414400.0000 - accuracy: 0.0000e+00\n",
      "Epoch 45/100\n",
      "8/8 [==============================] - 0s 2ms/step - loss: -68949311488.0000 - accuracy: 0.0000e+00\n",
      "Epoch 46/100\n",
      "8/8 [==============================] - 0s 2ms/step - loss: -70918307840.0000 - accuracy: 0.0000e+00\n",
      "Epoch 47/100\n",
      "8/8 [==============================] - 0s 2ms/step - loss: -73132302336.0000 - accuracy: 0.0000e+00\n",
      "Epoch 48/100\n",
      "8/8 [==============================] - 0s 2ms/step - loss: -75414716416.0000 - accuracy: 0.0000e+00\n",
      "Epoch 49/100\n",
      "8/8 [==============================] - 0s 2ms/step - loss: -77783293952.0000 - accuracy: 0.0000e+00\n",
      "Epoch 50/100\n",
      "8/8 [==============================] - 0s 1ms/step - loss: -79921840128.0000 - accuracy: 0.0000e+00\n",
      "Epoch 51/100\n",
      "8/8 [==============================] - 0s 2ms/step - loss: -82640609280.0000 - accuracy: 0.0000e+00\n",
      "Epoch 52/100\n",
      "8/8 [==============================] - 0s 1ms/step - loss: -84995792896.0000 - accuracy: 0.0000e+00\n",
      "Epoch 53/100\n",
      "8/8 [==============================] - 0s 2ms/step - loss: -87381835776.0000 - accuracy: 0.0000e+00\n",
      "Epoch 54/100\n",
      "8/8 [==============================] - 0s 1ms/step - loss: -89976168448.0000 - accuracy: 0.0000e+00\n",
      "Epoch 55/100\n",
      "8/8 [==============================] - 0s 1ms/step - loss: -92625616896.0000 - accuracy: 0.0000e+00\n",
      "Epoch 56/100\n",
      "8/8 [==============================] - 0s 2ms/step - loss: -95305924608.0000 - accuracy: 0.0000e+00\n",
      "Epoch 57/100\n",
      "8/8 [==============================] - 0s 1ms/step - loss: -97987706880.0000 - accuracy: 0.0000e+00\n",
      "Epoch 58/100\n",
      "8/8 [==============================] - 0s 3ms/step - loss: -100724178944.0000 - accuracy: 0.0000e+00\n",
      "Epoch 59/100\n",
      "8/8 [==============================] - 0s 1ms/step - loss: -103568613376.0000 - accuracy: 0.0000e+00\n",
      "Epoch 60/100\n",
      "8/8 [==============================] - 0s 2ms/step - loss: -106571489280.0000 - accuracy: 0.0000e+00\n",
      "Epoch 61/100\n",
      "8/8 [==============================] - 0s 2ms/step - loss: -109539803136.0000 - accuracy: 0.0000e+00\n",
      "Epoch 62/100\n",
      "8/8 [==============================] - 0s 1ms/step - loss: -112440287232.0000 - accuracy: 0.0000e+00\n",
      "Epoch 63/100\n",
      "8/8 [==============================] - 0s 2ms/step - loss: -115825147904.0000 - accuracy: 0.0000e+00\n",
      "Epoch 64/100\n",
      "8/8 [==============================] - 0s 2ms/step - loss: -118984613888.0000 - accuracy: 0.0000e+00\n",
      "Epoch 65/100\n",
      "8/8 [==============================] - 0s 2ms/step - loss: -121824403456.0000 - accuracy: 0.0000e+00\n",
      "Epoch 66/100\n",
      "8/8 [==============================] - 0s 1ms/step - loss: -125618290688.0000 - accuracy: 0.0000e+00\n",
      "Epoch 67/100\n",
      "8/8 [==============================] - 0s 2ms/step - loss: -128851533824.0000 - accuracy: 0.0000e+00\n",
      "Epoch 68/100\n",
      "8/8 [==============================] - 0s 2ms/step - loss: -132069605376.0000 - accuracy: 0.0000e+00\n",
      "Epoch 69/100\n",
      "8/8 [==============================] - 0s 1ms/step - loss: -135865483264.0000 - accuracy: 0.0000e+00\n",
      "Epoch 70/100\n",
      "8/8 [==============================] - 0s 2ms/step - loss: -139228446720.0000 - accuracy: 0.0000e+00\n",
      "Epoch 71/100\n",
      "8/8 [==============================] - 0s 2ms/step - loss: -143086518272.0000 - accuracy: 0.0000e+00\n",
      "Epoch 72/100\n",
      "8/8 [==============================] - 0s 2ms/step - loss: -146808832000.0000 - accuracy: 0.0000e+00\n",
      "Epoch 73/100\n"
     ]
    },
    {
     "name": "stdout",
     "output_type": "stream",
     "text": [
      "8/8 [==============================] - 0s 2ms/step - loss: -150270656512.0000 - accuracy: 0.0000e+00\n",
      "Epoch 74/100\n",
      "8/8 [==============================] - 0s 2ms/step - loss: -154579943424.0000 - accuracy: 0.0000e+00\n",
      "Epoch 75/100\n",
      "8/8 [==============================] - 0s 1ms/step - loss: -158525472768.0000 - accuracy: 0.0000e+00\n",
      "Epoch 76/100\n",
      "8/8 [==============================] - 0s 3ms/step - loss: -162174992384.0000 - accuracy: 0.0000e+00\n",
      "Epoch 77/100\n",
      "8/8 [==============================] - 0s 2ms/step - loss: -166594166784.0000 - accuracy: 0.0000e+00\n",
      "Epoch 78/100\n",
      "8/8 [==============================] - 0s 2ms/step - loss: -170730340352.0000 - accuracy: 0.0000e+00\n",
      "Epoch 79/100\n",
      "8/8 [==============================] - 0s 2ms/step - loss: -175010480128.0000 - accuracy: 0.0000e+00\n",
      "Epoch 80/100\n",
      "8/8 [==============================] - 0s 2ms/step - loss: -179392364544.0000 - accuracy: 0.0000e+00\n",
      "Epoch 81/100\n",
      "8/8 [==============================] - 0s 2ms/step - loss: -183418044416.0000 - accuracy: 0.0000e+00\n",
      "Epoch 82/100\n",
      "8/8 [==============================] - 0s 2ms/step - loss: -188276129792.0000 - accuracy: 0.0000e+00\n",
      "Epoch 83/100\n",
      "8/8 [==============================] - 0s 2ms/step - loss: -192311607296.0000 - accuracy: 0.0000e+00\n",
      "Epoch 84/100\n",
      "8/8 [==============================] - 0s 2ms/step - loss: -197516361728.0000 - accuracy: 0.0000e+00\n",
      "Epoch 85/100\n",
      "8/8 [==============================] - 0s 2ms/step - loss: -201742041088.0000 - accuracy: 0.0000e+00\n",
      "Epoch 86/100\n",
      "8/8 [==============================] - 0s 2ms/step - loss: -206658322432.0000 - accuracy: 0.0000e+00\n",
      "Epoch 87/100\n",
      "8/8 [==============================] - 0s 2ms/step - loss: -211556777984.0000 - accuracy: 0.0000e+00\n",
      "Epoch 88/100\n",
      "8/8 [==============================] - 0s 2ms/step - loss: -216309891072.0000 - accuracy: 0.0000e+00\n",
      "Epoch 89/100\n",
      "8/8 [==============================] - 0s 2ms/step - loss: -221463314432.0000 - accuracy: 0.0000e+00\n",
      "Epoch 90/100\n",
      "8/8 [==============================] - 0s 1ms/step - loss: -226533310464.0000 - accuracy: 0.0000e+00\n",
      "Epoch 91/100\n",
      "8/8 [==============================] - 0s 2ms/step - loss: -231500136448.0000 - accuracy: 0.0000e+00\n",
      "Epoch 92/100\n",
      "8/8 [==============================] - 0s 2ms/step - loss: -236612714496.0000 - accuracy: 0.0000e+00\n",
      "Epoch 93/100\n",
      "8/8 [==============================] - 0s 2ms/step - loss: -242241323008.0000 - accuracy: 0.0000e+00\n",
      "Epoch 94/100\n",
      "8/8 [==============================] - 0s 2ms/step - loss: -247581114368.0000 - accuracy: 0.0000e+00\n",
      "Epoch 95/100\n",
      "8/8 [==============================] - 0s 1ms/step - loss: -253192192000.0000 - accuracy: 0.0000e+00\n",
      "Epoch 96/100\n",
      "8/8 [==============================] - 0s 2ms/step - loss: -258569863168.0000 - accuracy: 0.0000e+00\n",
      "Epoch 97/100\n",
      "8/8 [==============================] - 0s 2ms/step - loss: -264032370688.0000 - accuracy: 0.0000e+00\n",
      "Epoch 98/100\n",
      "8/8 [==============================] - 0s 1ms/step - loss: -270610939904.0000 - accuracy: 0.0000e+00\n",
      "Epoch 99/100\n",
      "8/8 [==============================] - 0s 2ms/step - loss: -275866681344.0000 - accuracy: 0.0000e+00\n",
      "Epoch 100/100\n",
      "8/8 [==============================] - 0s 1ms/step - loss: -281686081536.0000 - accuracy: 0.0000e+00\n"
     ]
    }
   ],
   "source": [
    "# Train the model\n",
    "fit_model = nn.fit(X_train, y_train, epochs=100)"
   ]
  },
  {
   "cell_type": "code",
   "execution_count": 35,
   "id": "f77cd59d",
   "metadata": {},
   "outputs": [
    {
     "name": "stdout",
     "output_type": "stream",
     "text": [
      "3/3 - 0s - loss: -1.2189e+06 - accuracy: 0.0000e+00 - 208ms/epoch - 69ms/step\n",
      "Loss: -1218930.625, Accuracy: 0.0\n"
     ]
    }
   ],
   "source": [
    "model_loss, model_accuracy = nn.evaluate(X_test_scaled,y_test,verbose=2)\n",
    "print(f\"Loss: {model_loss}, Accuracy: {model_accuracy}\")"
   ]
  },
  {
   "cell_type": "code",
   "execution_count": null,
   "id": "5abbc6c8",
   "metadata": {},
   "outputs": [],
   "source": []
  },
  {
   "cell_type": "code",
   "execution_count": null,
   "id": "68a697c3",
   "metadata": {},
   "outputs": [],
   "source": []
  },
  {
   "cell_type": "code",
   "execution_count": null,
   "id": "af29ba58",
   "metadata": {},
   "outputs": [],
   "source": []
  },
  {
   "cell_type": "code",
   "execution_count": null,
   "id": "a77fef6d",
   "metadata": {},
   "outputs": [],
   "source": []
  },
  {
   "cell_type": "code",
   "execution_count": null,
   "id": "64dd9acf",
   "metadata": {},
   "outputs": [],
   "source": []
  }
 ],
 "metadata": {
  "kernelspec": {
   "display_name": "Python 3 (ipykernel)",
   "language": "python",
   "name": "python3"
  },
  "language_info": {
   "codemirror_mode": {
    "name": "ipython",
    "version": 3
   },
   "file_extension": ".py",
   "mimetype": "text/x-python",
   "name": "python",
   "nbconvert_exporter": "python",
   "pygments_lexer": "ipython3",
   "version": "3.9.7"
  }
 },
 "nbformat": 4,
 "nbformat_minor": 5
}
